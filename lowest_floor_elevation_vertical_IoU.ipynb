{
  "nbformat": 4,
  "nbformat_minor": 0,
  "metadata": {
    "colab": {
      "name": "lowest_floor_elevation_vertical_IoU.ipynb",
      "provenance": [],
      "collapsed_sections": [],
      "toc_visible": true,
      "mount_file_id": "1R85YPTXSyXYWReqqCm9p-CXaWT6tVAQ0",
      "authorship_tag": "ABX9TyNoxFLNfiAxj1IxnZfaDCB1",
      "include_colab_link": true
    },
    "kernelspec": {
      "name": "python3",
      "display_name": "Python 3"
    },
    "language_info": {
      "name": "python"
    }
  },
  "cells": [
    {
      "cell_type": "markdown",
      "metadata": {
        "id": "view-in-github",
        "colab_type": "text"
      },
      "source": [
        "<a href=\"https://colab.research.google.com/github/gladcolor/lowest_floor_elevation/blob/gladcolor-patch-1/lowest_floor_elevation_vertical_IoU.ipynb\" target=\"_parent\"><img src=\"https://colab.research.google.com/assets/colab-badge.svg\" alt=\"Open In Colab\"/></a>"
      ]
    },
    {
      "cell_type": "code",
      "metadata": {
        "colab": {
          "base_uri": "https://localhost:8080/",
          "height": 52
        },
        "id": "i491SyOjcs14",
        "outputId": "cc80fb17-717e-4468-a9a6-988c87eb2fa3"
      },
      "source": [
        "% cd /content/drive/MyDrive/Research/Lowest_first_floor\n",
        "% pwd"
      ],
      "execution_count": null,
      "outputs": [
        {
          "output_type": "stream",
          "text": [
            "/content/drive/MyDrive/Research/Lowest_first_floor\n"
          ],
          "name": "stdout"
        },
        {
          "output_type": "execute_result",
          "data": {
            "application/vnd.google.colaboratory.intrinsic+json": {
              "type": "string"
            },
            "text/plain": [
              "'/content/drive/MyDrive/Research/Lowest_first_floor'"
            ]
          },
          "metadata": {
            "tags": []
          },
          "execution_count": 5
        }
      ]
    },
    {
      "cell_type": "code",
      "metadata": {
        "colab": {
          "base_uri": "https://localhost:8080/"
        },
        "id": "kmXD1trCP5G5",
        "outputId": "027f105d-b14d-4434-d635-86b9a6b97877"
      },
      "source": [
        "import os\n",
        "import glob\n",
        "import pandas as pd\n",
        "\n",
        "origin_dir = r'origin/'\n",
        "detected_dir = r'detected/'\n",
        "\n",
        "origin_files = glob.glob(os.path.join(origin_dir, \"*.txt\"))\n",
        "detected_files = glob.glob(os.path.join(detected_dir, \"*.txt\"))\n",
        "\n",
        "\n",
        "def iou(bbox1, bbox2, vertical=True, horizontal=True):  # bbox: (top, right, bottom, left)\n",
        "    top1, right1, bottom1, left1 = bbox1\n",
        "    top2, right2, bottom2, left2 = bbox2\n",
        "\n",
        "def is_intersect(bbox1, bbox2): # bbox: (top, right, bottom, left)\n",
        "  top1, right1, bottom1, left1 = bbox1\n",
        "  top2, right2, bottom2, left2 = bbox2\n",
        "  return ~((top2 <= bottom1) or (top1 <= bottom2) or (left1 >= right2) or (left2 >= right1))\n",
        "\n",
        "def find_intersect_bbox(bbox, bboxes):\n",
        "  intersected = []\n",
        "  for b in bboxes:\n",
        "    if is_intersect(bbox, b):\n",
        "      intersected.append(b)\n",
        "  return intersected\n",
        "\n",
        "def box_area(box):\n",
        "  return (box[2] - box[0]) * (box[3] - box[1])\n",
        "\n",
        "def box_iou(box1, box2):  # d_bbox, o_bbox\n",
        "  # print(box1, box2)\n",
        "\n",
        "  iou_dict = {}\n",
        "\n",
        "  i_top = min(box1[0], box2[0])\n",
        "  i_right = min(box1[1], box2[1])\n",
        "  i_bottom = max(box1[2], box2[2])\n",
        "  i_left = max(box1[3], box2[3])\n",
        "  # print(\"i_top, i_right, i_bottom, i_left:\", i_top, i_right, i_bottom, i_left)\n",
        "  # compute the area of intersection rectangle\n",
        "  inter = (i_right - i_left) * (i_top - i_bottom)\n",
        "\n",
        "  area1 = box_area(box1)\n",
        "  area2 = box_area(box2)\n",
        "  iou_area = inter / (area1 + area2 - inter)\n",
        "\n",
        "  iou_dict[\"iou_area\"] = iou_area\n",
        "\n",
        "  # iou vertical:\n",
        "  u_top = max(box1[0], box2[0]) \n",
        "  u_bottom = max(box1[2], box2[2]) \n",
        "  iou_vertical = (i_top - i_bottom) / (u_top - u_bottom)\n",
        "\n",
        "    # bottom_error:\n",
        "  bottom_diff = abs(box1[2] - box2[2])   \n",
        "  bottom_error = bottom_diff / (box1[0] - box1[2])\n",
        "\n",
        "  # top_error:\n",
        "  top_diff = abs(box1[0] - box2[0])   \n",
        "  top_error = top_diff / (box1[0] - box1[2])\n",
        "\n",
        "  iou_dict[\"iou_area\"] = iou_area\n",
        "  iou_dict[\"iou_vertical\"] = iou_vertical\n",
        "  iou_dict[\"bottom_error\"] = bottom_error\n",
        "  iou_dict[\"top_error\"] = top_error\n",
        "\n",
        "  # if (iou ):\n",
        "  #   print(\"d_bbox, o_bbox:\", box1, box2)\n",
        "  #   print(\"IoU:\", iou)\n",
        "  #   print(\"i_top, i_right, i_bottom, i_left:\", i_top, i_right, i_bottom, i_left)\n",
        "  #   print(\"\")\n",
        "\n",
        "  return iou_dict\n",
        "\n",
        "def find_intersected_pairs(detected_df, origin_df):\n",
        "  categories = detected_df['category'].unique()\n",
        "  pairs = []\n",
        "  for c in categories:\n",
        "    d_df = detected_df[detected_df['category'] == c]\n",
        "    o_df = origin_df[origin_df['category'] == c]\n",
        "\n",
        "    o_bboxes = []\n",
        "    for idx, row in  o_df.iterrows():\n",
        "      o_bboxes.append((row[\"top\"], row[\"right\"], row[\"bottom\"], row[\"left\"]))\n",
        "\n",
        "    for idx, row in  d_df.iterrows():\n",
        "      d_bbox = (row[\"top\"], row[\"right\"], row[\"bottom\"], row[\"left\"])\n",
        "\n",
        "      for o_bbox in o_bboxes:\n",
        "        if is_intersect(d_bbox, o_bbox):\n",
        "          pairs.append((c, d_bbox, o_bbox))\n",
        "\n",
        "  return pairs\n",
        "\n",
        "def read_origin_bbox():\n",
        "\n",
        "  return 0\n",
        "\n",
        "def form_bbox_from_df(df):\n",
        "  try:\n",
        "    df[\"top\"]    = df[\"center_y\"] + df[\"height\"] / 2\n",
        "    df[\"bottom\"] = df[\"center_y\"] - df[\"height\"] / 2\n",
        "\n",
        "    df[\"right\"]  = df[\"center_x\"] + df[\"width\"] / 2    \n",
        "    df[\"left\"]   = df[\"center_x\"] - df[\"width\"] / 2\n",
        "\n",
        "\n",
        "\n",
        "  except Exception as e:\n",
        "    print(\"Error in form_bbox_from_df():\", e)\n",
        "  return df\n",
        "\n",
        "def calculate_iou_from_detected(origin_dir, detected_dir):\n",
        "  origin_files = glob.glob(os.path.join(origin_dir, \"*.txt\"))\n",
        "  # detected_files = glob.glob(os.path.join(detected_dir, \"*.txt\"))\n",
        "\n",
        "  # get detected_files\n",
        "  test_files = open(r'test.txt', 'r').readlines()\n",
        "  test_files = [f[:-5] + \".txt\" for f in test_files]\n",
        "  test_files = [os.path.join(detected_dir, os.path.basename(f)) for f in test_files]\n",
        "\n",
        "  print(test_files)\n",
        "\n",
        "  detected_files = test_files\n",
        "  # print(test_files)\n",
        "  # test_files = [os.path.join(detected_dir, os.path.basename(f) for f in test_files]\n",
        "  # test_files = [test_files[:-5] + \".txt\"]\n",
        "  # print(test_files)\n",
        "\n",
        "  # detected_files = [os.path.join(detected_dir, \"31795.txt\")]\n",
        "  iou_list = []\n",
        "  for idx, d_file in enumerate(detected_files):\n",
        "    o_file = os.path.join(origin_dir, os.path.basename(d_file))\n",
        "    if not os.path.exists(o_file):\n",
        "      continue\n",
        "    if not os.path.exists(d_file):\n",
        "      continue\n",
        "    # read origin bbox\n",
        "    origin_df = pd.read_csv(o_file, header=None, sep=\" \")\n",
        "    origin_df.columns = [\"category\", \"center_x\", \"center_y\", \"width\", \"height\"]\n",
        "    origin_df = form_bbox_from_df(origin_df)\n",
        "\n",
        "    # print(origin_df)\n",
        "\n",
        "    d_lines = open(d_file, 'r').readlines()\n",
        "    o_lines = open(o_file, 'r').readlines()\n",
        "\n",
        "    # print(d_lines)\n",
        "\n",
        "\n",
        "    detected_df = pd.read_csv(d_file, header=None, sep=\" \")\n",
        "    detected_df = detected_df[range(6)]\n",
        "    # print(detected_df)\n",
        "    detected_df.columns = [\"category\", \"confidence\", \"center_x\", \"center_y\", \"width\", \"height\"]\n",
        "    detected_df = form_bbox_from_df(detected_df)\n",
        "\n",
        "    # print(detected_df)\n",
        "\n",
        "    target_category_idx = 0 # door\n",
        "\n",
        "    \n",
        "\n",
        "    intersected_pairs = find_intersected_pairs(detected_df[detected_df[\"category\"].isin([target_category_idx])], origin_df[origin_df[\"category\"].isin([target_category_idx])])\n",
        "\n",
        "\n",
        "    \n",
        "    for p in intersected_pairs:\n",
        "      iou_dict = box_iou(p[1], p[2])\n",
        "      # print(iou)\n",
        "      iou_list.append(iou_dict)\n",
        "      # if iou :\n",
        "      #   print(detected_df[detected_df[\"category\"] == 0])\n",
        "      #   print(os.path.basename(d_file))\n",
        "\n",
        "      #   print(\"\")\n",
        "      # print(p[0])\n",
        "      # print(p)\n",
        "      # print(\"IoU:\", box_iou(p[1], p[2]))\n",
        "  return iou_list\n",
        "      \n",
        "    \n",
        "\n",
        "\n",
        "iou_list = calculate_iou_from_detected(origin_dir, detected_dir)\n",
        "\n"
      ],
      "execution_count": null,
      "outputs": [
        {
          "output_type": "stream",
          "text": [
            "['detected/2281.txt', 'detected/2290.txt', 'detected/2296.txt', 'detected/13788.txt', 'detected/13795.txt', 'detected/13803.txt', 'detected/13808.txt', 'detected/21615.txt', 'detected/21626.txt', 'detected/22476.txt', 'detected/22486.txt', 'detected/22491.txt', 'detected/29095.txt', 'detected/29100.txt', 'detected/29105.txt', 'detected/31074.txt', 'detected/31079.txt', 'detected/31086.txt', 'detected/31092.txt', 'detected/31098.txt', 'detected/31103.txt', 'detected/31109.txt', 'detected/31120.txt', 'detected/31130.txt', 'detected/31135.txt', 'detected/31140.txt', 'detected/31146.txt', 'detected/31152.txt', 'detected/31159.txt', 'detected/31165.txt', 'detected/31171.txt', 'detected/31177.txt', 'detected/31182.txt', 'detected/31187.txt', 'detected/31196.txt', 'detected/31201.txt', 'detected/31206.txt', 'detected/31211.txt', 'detected/31216.txt', 'detected/31221.txt', 'detected/31227.txt', 'detected/31232.txt', 'detected/31238.txt', 'detected/31244.txt', 'detected/31253.txt', 'detected/31259.txt', 'detected/31265.txt', 'detected/31271.txt', 'detected/31276.txt', 'detected/31284.txt', 'detected/31289.txt', 'detected/31296.txt', 'detected/31303.txt', 'detected/31310.txt', 'detected/31316.txt', 'detected/31327.txt', 'detected/31333.txt', 'detected/31338.txt', 'detected/31344.txt', 'detected/31349.txt', 'detected/31358.txt', 'detected/31363.txt', 'detected/31368.txt', 'detected/31378.txt', 'detected/31392.txt', 'detected/31400.txt', 'detected/31407.txt', 'detected/31413.txt', 'detected/31419.txt', 'detected/31425.txt', 'detected/31430.txt', 'detected/31436.txt', 'detected/31442.txt', 'detected/31452.txt', 'detected/31460.txt', 'detected/31469.txt', 'detected/31482.txt', 'detected/31488.txt', 'detected/31495.txt', 'detected/31500.txt', 'detected/31510.txt', 'detected/31521.txt', 'detected/31529.txt', 'detected/31534.txt', 'detected/31541.txt', 'detected/31550.txt', 'detected/31555.txt', 'detected/31564.txt', 'detected/31573.txt', 'detected/31581.txt', 'detected/31589.txt', 'detected/31601.txt', 'detected/31609.txt', 'detected/31617.txt', 'detected/31622.txt', 'detected/31628.txt', 'detected/31633.txt', 'detected/31639.txt', 'detected/31646.txt', 'detected/31651.txt', 'detected/31661.txt', 'detected/31672.txt', 'detected/31677.txt', 'detected/31682.txt', 'detected/31699.txt', 'detected/31704.txt', 'detected/31720.txt', 'detected/31727.txt', 'detected/31733.txt', 'detected/31740.txt', 'detected/31750.txt', 'detected/31758.txt', 'detected/31765.txt', 'detected/31770.txt', 'detected/31775.txt', 'detected/31781.txt', 'detected/31788.txt', 'detected/31795.txt', 'detected/31804.txt', 'detected/31813.txt', 'detected/31821.txt']\n"
          ],
          "name": "stdout"
        }
      ]
    },
    {
      "cell_type": "code",
      "metadata": {
        "colab": {
          "base_uri": "https://localhost:8080/"
        },
        "id": "Y1A9Wx5FM-hx",
        "outputId": "6ab330f0-43e5-4272-fe0d-83cc41fe2b35"
      },
      "source": [
        "import numpy as np\n",
        "\n",
        "iou_dict_all = {'bottom_error': 0, \"top_error\": 0,\n",
        "  'iou_area': 0,\n",
        "  'iou_vertical': 0,\n",
        "  \"top_error_list\": [],\n",
        "  \"bottom_error_list\": []}\n",
        "\n",
        "for iou in iou_list:\n",
        "  iou_dict_all['bottom_error'] += iou['bottom_error']\n",
        "  iou_dict_all['iou_area'] += iou['iou_area']\n",
        "  iou_dict_all['iou_vertical'] += iou['iou_vertical']\n",
        "  iou_dict_all['top_error'] += iou['top_error']\n",
        "  iou_dict_all['top_error_list'].append(iou['top_error'])\n",
        "  iou_dict_all['bottom_error_list'].append(iou['bottom_error'])\n",
        "\n",
        "iou_dict_all['bottom_error'] = iou_dict_all['bottom_error'] / len(iou_list)\n",
        "iou_dict_all['iou_area'] = iou_dict_all['iou_area'] / len(iou_list) \n",
        "iou_dict_all['iou_vertical'] = iou_dict_all['iou_vertical'] / len(iou_list) \n",
        "iou_dict_all['top_error'] = iou_dict_all['top_error'] / len(iou_list) \n",
        "\n",
        "\n",
        "\n",
        "iou_dict_all['bottom_std'] = np.array(iou_dict_all['bottom_error_list']).std() \n",
        "iou_dict_all['top_std'] = np.array(iou_dict_all['top_error_list']).std() \n",
        "\n",
        "print(\"iou_dict_all['top_std']:\", iou_dict_all['top_std'])\n",
        "print(\"iou_dict_all['top_error']:\", iou_dict_all['top_error'])\n",
        "\n",
        "print(\"iou_dict_all['bottom_std']:\", iou_dict_all['bottom_std'])\n",
        "print(\"iou_dict_all['bottom_error']:\", iou_dict_all['bottom_error'])\n",
        "\n",
        "print(\"iou_dict_all['iou_area']:\", iou_dict_all['iou_area'])\n",
        "print(\"iou_dict_all['iou_vertical']:\", iou_dict_all['iou_vertical'])\n",
        "\n"
      ],
      "execution_count": null,
      "outputs": [
        {
          "output_type": "stream",
          "text": [
            "iou_dict_all['top_std']: 0.06931612709490012\n",
            "iou_dict_all['top_error']: 0.04689380791835483\n",
            "iou_dict_all['bottom_std']: 0.0474653518042457\n",
            "iou_dict_all['bottom_error']: 0.027458709639779522\n",
            "iou_dict_all['iou_area']: 0.8146327722249954\n",
            "iou_dict_all['iou_vertical']: 0.9508862843846395\n"
          ],
          "name": "stdout"
        }
      ]
    },
    {
      "cell_type": "markdown",
      "metadata": {
        "id": "oGMuUbO1h5bm"
      },
      "source": [
        ""
      ]
    },
    {
      "cell_type": "code",
      "metadata": {
        "colab": {
          "base_uri": "https://localhost:8080/"
        },
        "id": "rlqzWaEQWktd",
        "outputId": "46c31c1d-d1b6-4e21-f389-d4f453d39a38"
      },
      "source": [
        "origin_dir = r'origin/'\n",
        "detected_dir = r'detected/'\n",
        "\n",
        "def calculate_precision(origin_dir, detected_dir):\n",
        "  origin_files = glob.glob(os.path.join(origin_dir, \"*.txt\"))\n",
        "  # detected_files = glob.glob(os.path.join(detected_dir, \"*.txt\"))\n",
        "\n",
        "  # get detected_files\n",
        "  test_files = open(r'test.txt', 'r').readlines()\n",
        "  test_files = [f[:-5] + \".txt\" for f in test_files]\n",
        "\n",
        "  test_files = [os.path.join(detected_dir, os.path.basename(f)) for f in test_files]\n",
        "  origin_files = [os.path.join(origin_dir, os.path.basename(f)) for f in test_files]\n",
        "\n",
        "  print(origin_files)\n",
        "\n",
        "  detected_files = test_files\n",
        "\n",
        "  origin_polygon_cnt = 0\n",
        "  detected_polyugon_cnt = 0\n",
        "\n",
        "  metric = {\"origin_polygon_cnt\": 0, \"detected_polygon_cnt\": 0, \"intersected_bbox_cnt\": 0, \n",
        "            \"recall\": 0, \n",
        "            \"precision\": 0\n",
        "            }\n",
        "\n",
        "  target_category_idxs = [0] # door\n",
        "\n",
        "  for idx, o_file in enumerate(origin_files):\n",
        "    d_file = os.path.join(detected_dir, os.path.basename(o_file))\n",
        "\n",
        "    # read origin bbox\n",
        "    origin_df = pd.read_csv(o_file, header=None, sep=\" \")\n",
        "    origin_df.columns = [\"category\", \"center_x\", \"center_y\", \"width\", \"height\"]\n",
        "\n",
        "    origin_df = origin_df[origin_df[\"category\"].isin(target_category_idxs)]\n",
        "\n",
        "    origin_df = form_bbox_from_df(origin_df)\n",
        "\n",
        "\n",
        "    metric[\"origin_polygon_cnt\"] += len(origin_df)\n",
        "\n",
        "\n",
        "    if not os.path.exists(d_file):\n",
        "      continue\n",
        "\n",
        "    d_lines = open(d_file, 'r').readlines()\n",
        "    o_lines = open(o_file, 'r').readlines()\n",
        "\n",
        "    detected_df = pd.read_csv(d_file, header=None, sep=\" \")\n",
        "    # print(detected_df)\n",
        "    detected_df = detected_df[range(6)]\n",
        "    # print(detected_df)\n",
        "    detected_df.columns = [\"category\", \"confidence\", \"center_x\", \"center_y\", \"width\", \"height\"]\n",
        "    detected_df = detected_df[detected_df[\"category\"].isin(target_category_idxs)]\n",
        "\n",
        "\n",
        "    detected_df = form_bbox_from_df(detected_df)\n",
        "\n",
        "\n",
        "    metric[\"detected_polygon_cnt\"] += len(detected_df)\n",
        "\n",
        "    intersected_pairs = find_intersected_pairs(detected_df, origin_df)\n",
        "\n",
        "    metric[\"intersected_bbox_cnt\"] += len(intersected_pairs)\n",
        "\n",
        "    # if len(origin_df) != len(intersected_pairs):\n",
        "      # print(d_file)\n",
        "      # print(\"len(origin_df), len(intersected_pairs):\", len(origin_df), len(intersected_pairs))\n",
        "      # print(\"\")\n",
        "\n",
        "\n",
        "  metric[\"recall\"] = metric[\"intersected_bbox_cnt\"] / metric[\"origin_polygon_cnt\"]\n",
        "  metric[\"precision\"] = metric[\"intersected_bbox_cnt\"] / metric[\"detected_polygon_cnt\"]\n",
        "  return metric\n",
        "\n",
        "calculate_precision(origin_dir, detected_dir)"
      ],
      "execution_count": null,
      "outputs": [
        {
          "output_type": "stream",
          "text": [
            "['origin/2281.txt', 'origin/2290.txt', 'origin/2296.txt', 'origin/13788.txt', 'origin/13795.txt', 'origin/13803.txt', 'origin/13808.txt', 'origin/21615.txt', 'origin/21626.txt', 'origin/22476.txt', 'origin/22486.txt', 'origin/22491.txt', 'origin/29095.txt', 'origin/29100.txt', 'origin/29105.txt', 'origin/31074.txt', 'origin/31079.txt', 'origin/31086.txt', 'origin/31092.txt', 'origin/31098.txt', 'origin/31103.txt', 'origin/31109.txt', 'origin/31120.txt', 'origin/31130.txt', 'origin/31135.txt', 'origin/31140.txt', 'origin/31146.txt', 'origin/31152.txt', 'origin/31159.txt', 'origin/31165.txt', 'origin/31171.txt', 'origin/31177.txt', 'origin/31182.txt', 'origin/31187.txt', 'origin/31196.txt', 'origin/31201.txt', 'origin/31206.txt', 'origin/31211.txt', 'origin/31216.txt', 'origin/31221.txt', 'origin/31227.txt', 'origin/31232.txt', 'origin/31238.txt', 'origin/31244.txt', 'origin/31253.txt', 'origin/31259.txt', 'origin/31265.txt', 'origin/31271.txt', 'origin/31276.txt', 'origin/31284.txt', 'origin/31289.txt', 'origin/31296.txt', 'origin/31303.txt', 'origin/31310.txt', 'origin/31316.txt', 'origin/31327.txt', 'origin/31333.txt', 'origin/31338.txt', 'origin/31344.txt', 'origin/31349.txt', 'origin/31358.txt', 'origin/31363.txt', 'origin/31368.txt', 'origin/31378.txt', 'origin/31392.txt', 'origin/31400.txt', 'origin/31407.txt', 'origin/31413.txt', 'origin/31419.txt', 'origin/31425.txt', 'origin/31430.txt', 'origin/31436.txt', 'origin/31442.txt', 'origin/31452.txt', 'origin/31460.txt', 'origin/31469.txt', 'origin/31482.txt', 'origin/31488.txt', 'origin/31495.txt', 'origin/31500.txt', 'origin/31510.txt', 'origin/31521.txt', 'origin/31529.txt', 'origin/31534.txt', 'origin/31541.txt', 'origin/31550.txt', 'origin/31555.txt', 'origin/31564.txt', 'origin/31573.txt', 'origin/31581.txt', 'origin/31589.txt', 'origin/31601.txt', 'origin/31609.txt', 'origin/31617.txt', 'origin/31622.txt', 'origin/31628.txt', 'origin/31633.txt', 'origin/31639.txt', 'origin/31646.txt', 'origin/31651.txt', 'origin/31661.txt', 'origin/31672.txt', 'origin/31677.txt', 'origin/31682.txt', 'origin/31699.txt', 'origin/31704.txt', 'origin/31720.txt', 'origin/31727.txt', 'origin/31733.txt', 'origin/31740.txt', 'origin/31750.txt', 'origin/31758.txt', 'origin/31765.txt', 'origin/31770.txt', 'origin/31775.txt', 'origin/31781.txt', 'origin/31788.txt', 'origin/31795.txt', 'origin/31804.txt', 'origin/31813.txt', 'origin/31821.txt']\n"
          ],
          "name": "stdout"
        },
        {
          "output_type": "execute_result",
          "data": {
            "text/plain": [
              "{'detected_polygon_cnt': 190,\n",
              " 'intersected_bbox_cnt': 152,\n",
              " 'origin_polygon_cnt': 254,\n",
              " 'precision': 0.8,\n",
              " 'recall': 0.5984251968503937}"
            ]
          },
          "metadata": {
            "tags": []
          },
          "execution_count": 161
        }
      ]
    },
    {
      "cell_type": "code",
      "metadata": {
        "id": "XxfDErwyWkdA"
      },
      "source": [
        ""
      ],
      "execution_count": null,
      "outputs": []
    }
  ]
}